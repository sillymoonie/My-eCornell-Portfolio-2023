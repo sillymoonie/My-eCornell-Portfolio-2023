{
 "cells": [
  {
   "cell_type": "markdown",
   "metadata": {},
   "source": [
    "# Lab 8: Implement Your Machine Learning Project Plan"
   ]
  },
  {
   "cell_type": "markdown",
   "metadata": {},
   "source": [
    "In this lab assignment, you will implement the machine learning project plan you created in the written assignment. You will:\n",
    "\n",
    "1. Load your data set and save it to a Pandas DataFrame.\n",
    "2. Perform exploratory data analysis on your data to determine which feature engineering and data preparation techniques you will use.\n",
    "3. Prepare your data for your model and create features and a label.\n",
    "4. Fit your model to the training data and evaluate your model.\n",
    "5. Improve your model by performing model selection and/or feature selection techniques to find best model for your problem."
   ]
  },
  {
   "cell_type": "markdown",
   "metadata": {},
   "source": [
    "### Import Packages\n",
    "\n",
    "Before you get started, import a few packages."
   ]
  },
  {
   "cell_type": "code",
   "execution_count": 1,
   "metadata": {},
   "outputs": [],
   "source": [
    "import pandas as pd\n",
    "import numpy as np\n",
    "import os \n",
    "import matplotlib.pyplot as plt\n",
    "import seaborn as sns"
   ]
  },
  {
   "cell_type": "markdown",
   "metadata": {},
   "source": [
    "<b>Task:</b> In the code cell below, import additional packages that you have used in this course that you will need for this task."
   ]
  },
  {
   "cell_type": "code",
   "execution_count": 2,
   "metadata": {},
   "outputs": [],
   "source": [
    "# YOUR CODE HERE\n",
    "from sklearn.ensemble import RandomForestClassifier\n",
    "from sklearn.metrics import accuracy_score, classification_report, confusion_matrix\n",
    "from sklearn.feature_selection import SelectFromModel\n",
    "from sklearn.utils import resample"
   ]
  },
  {
   "cell_type": "markdown",
   "metadata": {},
   "source": [
    "## Part 1: Load the Data Set\n",
    "\n",
    "\n",
    "You have chosen to work with one of four data sets. The data sets are located in a folder named \"data.\" The file names of the three data sets are as follows:\n",
    "\n",
    "* The \"adult\" data set that contains Census information from 1994 is located in file `adultData.csv`\n",
    "* The airbnb NYC \"listings\" data set is located in file  `airbnbListingsData.csv`\n",
    "* The World Happiness Report (WHR) data set is located in file `WHR2018Chapter2OnlineData.csv`\n",
    "* The book review data set is located in file `bookReviewsData.csv`\n",
    "\n",
    "\n",
    "\n",
    "<b>Task:</b> In the code cell below, use the same method you have been using to load your data using `pd.read_csv()` and save it to DataFrame `df`."
   ]
  },
  {
   "cell_type": "code",
   "execution_count": 3,
   "metadata": {},
   "outputs": [],
   "source": [
    "# YOUR CODE HERE\n",
    "file_path = \"data/adultData.csv\"\n",
    "\n",
    "# Load the data set into a DataFrame\n",
    "df = pd.read_csv(file_path)"
   ]
  },
  {
   "cell_type": "markdown",
   "metadata": {},
   "source": [
    "## Part 2: Exploratory Data Analysis\n",
    "\n",
    "The next step is to inspect and analyze your data set with your machine learning problem and project plan in mind. \n",
    "\n",
    "This step will help you determine data preparation and feature engineering techniques you will need to apply to your data to build a balanced modeling data set for your problem and model. These data preparation techniques may include:\n",
    "* addressing missingness, such as replacing missing values with means\n",
    "* renaming features and labels\n",
    "* finding and replacing outliers\n",
    "* performing winsorization if needed\n",
    "* performing one-hot encoding on categorical features\n",
    "* performing vectorization for an NLP problem\n",
    "* addressing class imbalance in your data sample to promote fair AI\n",
    "\n",
    "\n",
    "Think of the different techniques you have used to inspect and analyze your data in this course. These include using Pandas to apply data filters, using the Pandas `describe()` method to get insight into key statistics for each column, using the Pandas `dtypes` property to inspect the data type of each column, and using Matplotlib and Seaborn to detect outliers and visualize relationships between features and labels. If you are working on a classification problem, use techniques you have learned to determine if there is class imbalance.\n",
    "\n",
    "\n",
    "<b>Task</b>: Use the techniques you have learned in this course to inspect and analyze your data. \n",
    "\n",
    "<b>Note</b>: You can add code cells if needed by going to the <b>Insert</b> menu and clicking on <b>Insert Cell Below</b> in the drop-drown menu."
   ]
  },
  {
   "cell_type": "code",
   "execution_count": 4,
   "metadata": {},
   "outputs": [
    {
     "name": "stdout",
     "output_type": "stream",
     "text": [
      "    age         workclass  fnlwgt  education  education-num  \\\n",
      "0  39.0         State-gov   77516  Bachelors             13   \n",
      "1  50.0  Self-emp-not-inc   83311  Bachelors             13   \n",
      "2  38.0           Private  215646    HS-grad              9   \n",
      "3  53.0           Private  234721       11th              7   \n",
      "4  28.0           Private  338409  Bachelors             13   \n",
      "\n",
      "       marital-status         occupation   relationship   race  sex_selfID  \\\n",
      "0       Never-married       Adm-clerical  Not-in-family  White  Non-Female   \n",
      "1  Married-civ-spouse    Exec-managerial        Husband  White  Non-Female   \n",
      "2            Divorced  Handlers-cleaners  Not-in-family  White  Non-Female   \n",
      "3  Married-civ-spouse  Handlers-cleaners        Husband  Black  Non-Female   \n",
      "4  Married-civ-spouse     Prof-specialty           Wife  Black      Female   \n",
      "\n",
      "   capital-gain  capital-loss  hours-per-week native-country income_binary  \n",
      "0          2174             0            40.0  United-States         <=50K  \n",
      "1             0             0            13.0  United-States         <=50K  \n",
      "2             0             0            40.0  United-States         <=50K  \n",
      "3             0             0            40.0  United-States         <=50K  \n",
      "4             0             0            40.0           Cuba         <=50K  \n",
      "<class 'pandas.core.frame.DataFrame'>\n",
      "RangeIndex: 32561 entries, 0 to 32560\n",
      "Data columns (total 15 columns):\n",
      " #   Column          Non-Null Count  Dtype  \n",
      "---  ------          --------------  -----  \n",
      " 0   age             32399 non-null  float64\n",
      " 1   workclass       30725 non-null  object \n",
      " 2   fnlwgt          32561 non-null  int64  \n",
      " 3   education       32561 non-null  object \n",
      " 4   education-num   32561 non-null  int64  \n",
      " 5   marital-status  32561 non-null  object \n",
      " 6   occupation      30718 non-null  object \n",
      " 7   relationship    32561 non-null  object \n",
      " 8   race            32561 non-null  object \n",
      " 9   sex_selfID      32561 non-null  object \n",
      " 10  capital-gain    32561 non-null  int64  \n",
      " 11  capital-loss    32561 non-null  int64  \n",
      " 12  hours-per-week  32236 non-null  float64\n",
      " 13  native-country  31978 non-null  object \n",
      " 14  income_binary   32561 non-null  object \n",
      "dtypes: float64(2), int64(4), object(9)\n",
      "memory usage: 3.7+ MB\n",
      "None\n",
      "                age        fnlwgt  education-num  capital-gain  capital-loss  \\\n",
      "count  32399.000000  3.256100e+04   32561.000000  32561.000000  32561.000000   \n",
      "mean      38.589216  1.897784e+05      10.080679    615.907773     87.303830   \n",
      "std       13.647862  1.055500e+05       2.572720   2420.191974    402.960219   \n",
      "min       17.000000  1.228500e+04       1.000000      0.000000      0.000000   \n",
      "25%       28.000000  1.178270e+05       9.000000      0.000000      0.000000   \n",
      "50%       37.000000  1.783560e+05      10.000000      0.000000      0.000000   \n",
      "75%       48.000000  2.370510e+05      12.000000      0.000000      0.000000   \n",
      "max       90.000000  1.484705e+06      16.000000  14084.000000   4356.000000   \n",
      "\n",
      "       hours-per-week  \n",
      "count    32236.000000  \n",
      "mean        40.450428  \n",
      "std         12.353748  \n",
      "min          1.000000  \n",
      "25%         40.000000  \n",
      "50%         40.000000  \n",
      "75%         45.000000  \n",
      "max         99.000000  \n"
     ]
    }
   ],
   "source": [
    "# YOUR CODE HERE\n",
    "#1. Basic Data Inspection\n",
    "# Display the first few rows of the data\n",
    "print(df.head())\n",
    "\n",
    "# Get basic information about the data set\n",
    "print(df.info())\n",
    "\n",
    "# Get statistical summary of the numerical columns\n",
    "print(df.describe())"
   ]
  },
  {
   "cell_type": "code",
   "execution_count": 5,
   "metadata": {},
   "outputs": [
    {
     "name": "stdout",
     "output_type": "stream",
     "text": [
      "age                162\n",
      "workclass         1836\n",
      "fnlwgt               0\n",
      "education            0\n",
      "education-num        0\n",
      "marital-status       0\n",
      "occupation        1843\n",
      "relationship         0\n",
      "race                 0\n",
      "sex_selfID           0\n",
      "capital-gain         0\n",
      "capital-loss         0\n",
      "hours-per-week     325\n",
      "native-country     583\n",
      "income_binary        0\n",
      "dtype: int64\n"
     ]
    }
   ],
   "source": [
    "#2. Addressing Missing Value\n",
    "# Check for missing values in each column\n",
    "print(df.isnull().sum())\n",
    "\n",
    "# Replace missing values with the mean for numerical columns (e.g., 'age' and 'hours-per-week')\n",
    "df['age'].fillna(df['age'].mean(), inplace=True)\n",
    "df['hours-per-week'].fillna(df['hours-per-week'].mean(), inplace=True)"
   ]
  },
  {
   "cell_type": "code",
   "execution_count": 6,
   "metadata": {},
   "outputs": [
    {
     "name": "stdout",
     "output_type": "stream",
     "text": [
      "age               float64\n",
      "workclass          object\n",
      "fnlwgt              int64\n",
      "education          object\n",
      "education-num       int64\n",
      "marital-status     object\n",
      "occupation         object\n",
      "relationship       object\n",
      "race               object\n",
      "sex_selfID         object\n",
      "capital-gain        int64\n",
      "capital-loss        int64\n",
      "hours-per-week    float64\n",
      "native-country     object\n",
      "income_binary      object\n",
      "dtype: object\n"
     ]
    }
   ],
   "source": [
    "#3. Data Type Inspection\n",
    "# Check data types of each column\n",
    "print(df.dtypes)"
   ]
  },
  {
   "cell_type": "code",
   "execution_count": 7,
   "metadata": {},
   "outputs": [
    {
     "name": "stdout",
     "output_type": "stream",
     "text": [
      "<=50K    24720\n",
      ">50K      7841\n",
      "Name: income_binary, dtype: int64\n"
     ]
    }
   ],
   "source": [
    "#4. Class Imbalance - for Classification Problem\n",
    "# Check class distribution for 'income_binary'\n",
    "print(df['income_binary'].value_counts())"
   ]
  },
  {
   "cell_type": "code",
   "execution_count": 8,
   "metadata": {},
   "outputs": [
    {
     "data": {
      "image/png": "[encoded data removed]",
      "text/plain": [
       "<Figure size 432x288 with 1 Axes>"
      ]
     },
     "metadata": {
      "needs_background": "light"
     },
     "output_type": "display_data"
    },
    {
     "data": {
      "image/png": "[encoded data removed]",
      "text/plain": [
       "<Figure size 432x288 with 1 Axes>"
      ]
     },
     "metadata": {
      "needs_background": "light"
     },
     "output_type": "display_data"
    },
    {
     "data": {
      "image/png": "[encoded data removed]",
      "text/plain": [
       "<Figure size 432x288 with 1 Axes>"
      ]
     },
     "metadata": {
      "needs_background": "light"
     },
     "output_type": "display_data"
    }
   ],
   "source": [
    "#5. Visualization Relationship\n",
    "# Visualize the relationship between 'age' and 'income_binary'\n",
    "sns.boxplot(x='income_binary', y='age', data=df)\n",
    "plt.show()\n",
    "\n",
    "# Visualize the distribution of 'hours-per-week' for each income group\n",
    "sns.histplot(data=df, x='hours-per-week', hue='income_binary', kde=True)\n",
    "plt.show()\n",
    "\n",
    "# Visualize the distribution of 'education' for each income group\n",
    "sns.countplot(data=df, x='education', hue='income_binary')\n",
    "plt.xticks(rotation=90)\n",
    "plt.show()"
   ]
  },
  {
   "cell_type": "markdown",
   "metadata": {},
   "source": [
    "## Part 3: Implement Your Project Plan\n",
    "\n",
    "<b>Task:</b> Use the rest of this notebook to carry out your project plan. You will:\n",
    "\n",
    "1. Prepare your data for your model and create features and a label.\n",
    "2. Fit your model to the training data and evaluate your model.\n",
    "3. Improve your model by performing model selection and/or feature selection techniques to find best model for your problem.\n",
    "\n",
    "\n",
    "Add code cells below and populate the notebook with commentary, code, analyses, results, and figures as you see fit."
   ]
  },
  {
   "cell_type": "code",
   "execution_count": 9,
   "metadata": {},
   "outputs": [
    {
     "name": "stdout",
     "output_type": "stream",
     "text": [
      "<=50K    19778\n",
      ">50K      6270\n",
      "Name: income_binary, dtype: int64\n"
     ]
    }
   ],
   "source": [
    "# YOUR CODE HERE\n",
    "\n",
    "#1. Data Preparation and Feature Engineering\n",
    "# Separate features and target label\n",
    "X = df.drop('income_binary', axis=1)\n",
    "y = df['income_binary']\n",
    "\n",
    "# Perform one-hot encoding on categorical features\n",
    "X_encoded = pd.get_dummies(X, drop_first=True)\n",
    "\n",
    "# Split the data into training and testing sets\n",
    "from sklearn.model_selection import train_test_split\n",
    "\n",
    "X_train, X_test, y_train, y_test = train_test_split(X_encoded, y, test_size=0.2, random_state=42)\n",
    "\n",
    "# Check class distribution for 'income_binary'\n",
    "print(y_train.value_counts())\n"
   ]
  },
  {
   "cell_type": "code",
   "execution_count": 10,
   "metadata": {},
   "outputs": [
    {
     "name": "stdout",
     "output_type": "stream",
     "text": [
      ">50K     19778\n",
      "<=50K    19778\n",
      "Name: income_binary, dtype: int64\n"
     ]
    }
   ],
   "source": [
    "#2. Addressing Class Imbalance\n",
    "\n",
    "# Combine X_train and y_train into a single dataframe\n",
    "train_data = pd.concat([X_train, y_train], axis=1)\n",
    "\n",
    "# Separate minority and majority classes\n",
    "minority_class = train_data[train_data['income_binary'] == '>50K']\n",
    "majority_class = train_data[train_data['income_binary'] == '<=50K']\n",
    "\n",
    "# Oversample the minority class\n",
    "minority_oversampled = resample(minority_class,\n",
    "                                 replace=True,  # Sample with replacement\n",
    "                                 n_samples=len(majority_class),  # Match the number of majority samples\n",
    "                                 random_state=42)\n",
    "\n",
    "# Combine oversampled minority class with majority class\n",
    "oversampled_data = pd.concat([majority_class, minority_oversampled])\n",
    "\n",
    "# Separate features (X) and target (y) after oversampling\n",
    "X_train_balanced = oversampled_data.drop('income_binary', axis=1)\n",
    "y_train_balanced = oversampled_data['income_binary']\n",
    "\n",
    "# Check the class distribution after oversampling\n",
    "print(y_train_balanced.value_counts())\n"
   ]
  },
  {
   "cell_type": "code",
   "execution_count": 11,
   "metadata": {},
   "outputs": [
    {
     "name": "stdout",
     "output_type": "stream",
     "text": [
      "Model Accuracy: 0.8542914171656687\n",
      "Classification Report:\n",
      "              precision    recall  f1-score   support\n",
      "\n",
      "       <=50K       0.90      0.90      0.90      4942\n",
      "        >50K       0.70      0.70      0.70      1571\n",
      "\n",
      "    accuracy                           0.85      6513\n",
      "   macro avg       0.80      0.80      0.80      6513\n",
      "weighted avg       0.85      0.85      0.85      6513\n",
      "\n",
      "Confusion Matrix:\n",
      "[[4469  473]\n",
      " [ 476 1095]]\n"
     ]
    }
   ],
   "source": [
    "#3. Model Selection and Evaluation\n",
    "\n",
    "# Initialize the model\n",
    "model = RandomForestClassifier(random_state=42)\n",
    "\n",
    "# Fit the model to the balanced training data\n",
    "model.fit(X_train_balanced, y_train_balanced)\n",
    "\n",
    "# Make predictions on the test data\n",
    "y_pred = model.predict(X_test)\n",
    "\n",
    "# Evaluate the model\n",
    "accuracy = accuracy_score(y_test, y_pred)\n",
    "print(\"Model Accuracy:\", accuracy)\n",
    "\n",
    "print(\"Classification Report:\")\n",
    "print(classification_report(y_test, y_pred))\n",
    "\n",
    "print(\"Confusion Matrix:\")\n",
    "print(confusion_matrix(y_test, y_pred))"
   ]
  },
  {
   "cell_type": "code",
   "execution_count": 12,
   "metadata": {},
   "outputs": [
    {
     "name": "stdout",
     "output_type": "stream",
     "text": [
      "Updated Model Accuracy: 0.8522954091816367\n",
      "Updated Classification Report:\n",
      "              precision    recall  f1-score   support\n",
      "\n",
      "       <=50K       0.90      0.90      0.90      4942\n",
      "        >50K       0.69      0.70      0.69      1571\n",
      "\n",
      "    accuracy                           0.85      6513\n",
      "   macro avg       0.80      0.80      0.80      6513\n",
      "weighted avg       0.85      0.85      0.85      6513\n",
      "\n",
      "Updated Confusion Matrix:\n",
      "[[4458  484]\n",
      " [ 478 1093]]\n"
     ]
    }
   ],
   "source": [
    "#4. Model Improvement and Feature Selection\n",
    "\n",
    "# Initialize the feature selector\n",
    "selector = SelectFromModel(estimator=model, threshold='median')\n",
    "\n",
    "# Fit the feature selector to the balanced training data\n",
    "selector.fit(X_train_balanced, y_train_balanced)\n",
    "\n",
    "# Transform the training and test data\n",
    "X_train_selected = selector.transform(X_train_balanced)\n",
    "X_test_selected = selector.transform(X_test)\n",
    "\n",
    "# Re-fit the model on the selected features\n",
    "model.fit(X_train_selected, y_train_balanced)\n",
    "\n",
    "# Make predictions on the test data using the updated model\n",
    "y_pred_selected = model.predict(X_test_selected)\n",
    "\n",
    "# Evaluate the updated model\n",
    "accuracy_selected = accuracy_score(y_test, y_pred_selected)\n",
    "print(\"Updated Model Accuracy:\", accuracy_selected)\n",
    "\n",
    "print(\"Updated Classification Report:\")\n",
    "print(classification_report(y_test, y_pred_selected))\n",
    "\n",
    "print(\"Updated Confusion Matrix:\")\n",
    "print(confusion_matrix(y_test, y_pred_selected))\n"
   ]
  },
  {
   "cell_type": "code",
   "execution_count": 13,
   "metadata": {},
   "outputs": [
    {
     "name": "stdout",
     "output_type": "stream",
     "text": [
      "Original Model Accuracy: 0.8542914171656687\n",
      "Updated Model Accuracy: 0.8522954091816367\n"
     ]
    },
    {
     "data": {
      "image/png": "[encoded data removed]",
      "text/plain": [
       "<Figure size 720x432 with 1 Axes>"
      ]
     },
     "metadata": {
      "needs_background": "light"
     },
     "output_type": "display_data"
    }
   ],
   "source": [
    "#5. Final Analyis and Conclusion\n",
    "\n",
    "# Compare the performance of the original model and the updated model\n",
    "print(\"Original Model Accuracy:\", accuracy)\n",
    "print(\"Updated Model Accuracy:\", accuracy_selected)\n",
    "\n",
    "# Analyze the feature importances \n",
    "feature_importances = model.feature_importances_\n",
    "feature_names = X_encoded.columns[selector.get_support()]\n",
    "\n",
    "# Visualize feature importances \n",
    "plt.figure(figsize=(10, 6))\n",
    "ax = sns.barplot(x=feature_importances, y=feature_names)\n",
    "plt.xlabel(\"Feature Importance\")\n",
    "plt.ylabel(\"Feature\", fontsize=12)  \n",
    "plt.title(\"Feature Importances\")\n",
    "plt.xticks(rotation=45)\n",
    "plt.tight_layout()  \n",
    "plt.show()"
   ]
  }
 ],
 "metadata": {
  "kernelspec": {
   "display_name": "Python 3",
   "language": "python",
   "name": "python3"
  },
  "language_info": {
   "codemirror_mode": {
    "name": "ipython",
    "version": 3
   },
   "file_extension": ".py",
   "mimetype": "text/x-python",
   "name": "python",
   "nbconvert_exporter": "python",
   "pygments_lexer": "ipython3",
   "version": "3.6.9"
  },
  "toc": {
   "base_numbering": 1,
   "nav_menu": {},
   "number_sections": false,
   "sideBar": true,
   "skip_h1_title": false,
   "title_cell": "Table of Contents",
   "title_sidebar": "Contents",
   "toc_cell": false,
   "toc_position": {},
   "toc_section_display": true,
   "toc_window_display": false
  },
  "varInspector": {
   "cols": {
    "lenName": 16,
    "lenType": 16,
    "lenVar": 40
   },
   "kernels_config": {
    "python": {
     "delete_cmd_postfix": "",
     "delete_cmd_prefix": "del ",
     "library": "var_list.py",
     "varRefreshCmd": "print(var_dic_list())"
    },
    "r": {
     "delete_cmd_postfix": ") ",
     "delete_cmd_prefix": "rm(",
     "library": "var_list.r",
     "varRefreshCmd": "cat(var_dic_list()) "
    }
   },
   "types_to_exclude": [
    "module",
    "function",
    "builtin_function_or_method",
    "instance",
    "_Feature"
   ],
   "window_display": false
  }
 },
 "nbformat": 4,
 "nbformat_minor": 2
}
